{
 "cells": [
  {
   "cell_type": "code",
   "execution_count": 1,
   "metadata": {},
   "outputs": [],
   "source": [
    "import numpy as np\n",
    "import numpy.random as npr\n",
    "import cvxpy as cp\n",
    "import time\n",
    "import matplotlib.pyplot as plt\n",
    "\n",
    "from formulations import *\n",
    "from utils import *\n",
    "from vc_formulations import *\n",
    "\n",
    "\n",
    "import os\n",
    "import imageio"
   ]
  },
  {
   "cell_type": "markdown",
   "metadata": {},
   "source": [
    "### Testing this for C5"
   ]
  },
  {
   "cell_type": "code",
   "execution_count": 2,
   "metadata": {},
   "outputs": [],
   "source": [
    "n = 5\n",
    "\n",
    "A = np.zeros((5,5)) # Adjacency matrix for C5\n",
    "A[0,1] = 1\n",
    "A[1,0] = 1\n",
    "A[0,4] = 1\n",
    "A[4,0] = 1\n",
    "A[1,2] = 1\n",
    "A[2,1] = 1\n",
    "A[2,3] = 1\n",
    "A[3,2] = 1\n",
    "A[3,4] = 1\n",
    "A[4,3] = 1\n",
    "\n",
    "D = np.zeros((5,5))\n",
    "D[0,0] = 1\n",
    "D[0,1] = 1\n",
    "D[1,1] = 1\n",
    "D[1,2] = 1\n",
    "D[2,2] = 1\n",
    "D[2,3] = 1\n",
    "D[3,3] = 1\n",
    "D[3,4] = 1\n",
    "D[4,4] = 1\n",
    "D[4,0] = 1"
   ]
  },
  {
   "cell_type": "code",
   "execution_count": 3,
   "metadata": {},
   "outputs": [
    {
     "name": "stdout",
     "output_type": "stream",
     "text": [
      "[[0. 1. 0. 0. 1.]\n",
      " [1. 0. 1. 0. 0.]\n",
      " [0. 1. 0. 1. 0.]\n",
      " [0. 0. 1. 0. 1.]\n",
      " [1. 0. 0. 1. 0.]]\n"
     ]
    }
   ],
   "source": [
    "print(A)"
   ]
  },
  {
   "cell_type": "code",
   "execution_count": 35,
   "metadata": {},
   "outputs": [],
   "source": [
    "w = np.ones(n)\n",
    "val_c5, x_c5, y_c5 = misp(A,w,0)\n",
    "val_c5_sdp, X_c5_sdp = misp_sdp(A,w,0)\n",
    "val_c5_vc, x_c5_vc = vertex_cover(A,w)\n",
    "val_c5_vc_sdp, x_c5_vc_sdp = vertex_cover_sdp(A,w)"
   ]
  },
  {
   "cell_type": "code",
   "execution_count": 36,
   "metadata": {},
   "outputs": [
    {
     "name": "stdout",
     "output_type": "stream",
     "text": [
      "optimal val =  3.0\n",
      "out sdp =  2.499983018840023\n",
      "vc-dependent sdp =  1.7799734181133708\n",
      "lovasz sdp =  2.764\n"
     ]
    }
   ],
   "source": [
    "print(\"optimal val = \", val_c5)\n",
    "print(\"out sdp = \", val_c5_sdp)\n",
    "print(\"vc-dependent sdp = \", val_c5_vc_sdp)\n",
    "print(\"lovasz sdp = \", 2.764)"
   ]
  },
  {
   "cell_type": "code",
   "execution_count": 25,
   "metadata": {},
   "outputs": [
    {
     "name": "stdout",
     "output_type": "stream",
     "text": [
      "1.0000000000000002\n"
     ]
    },
    {
     "data": {
      "text/plain": [
       "3.000000000000001"
      ]
     },
     "execution_count": 25,
     "metadata": {},
     "output_type": "execute_result"
    }
   ],
   "source": [
    "x = np.array([[1,1,0,1.,0]])/np.sqrt(3)\n",
    "X = x.T @ x\n",
    "print(np.trace(X))\n",
    "\n",
    "np.trace(np.ones((5,5))@ X)"
   ]
  },
  {
   "cell_type": "code",
   "execution_count": null,
   "metadata": {},
   "outputs": [],
   "source": [
    "val_c5_vc"
   ]
  },
  {
   "cell_type": "code",
   "execution_count": null,
   "metadata": {},
   "outputs": [],
   "source": []
  },
  {
   "cell_type": "code",
   "execution_count": null,
   "metadata": {},
   "outputs": [],
   "source": []
  }
 ],
 "metadata": {
  "kernelspec": {
   "display_name": "lro",
   "language": "python",
   "name": "python3"
  },
  "language_info": {
   "codemirror_mode": {
    "name": "ipython",
    "version": 3
   },
   "file_extension": ".py",
   "mimetype": "text/x-python",
   "name": "python",
   "nbconvert_exporter": "python",
   "pygments_lexer": "ipython3",
   "version": "3.10.6"
  },
  "orig_nbformat": 4
 },
 "nbformat": 4,
 "nbformat_minor": 2
}
