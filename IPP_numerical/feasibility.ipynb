{
 "cells": [
  {
   "cell_type": "code",
   "execution_count": 2,
   "metadata": {},
   "outputs": [],
   "source": [
    "import numpy as np\n",
    "import numpy.random as npr\n",
    "import cvxpy as cp\n",
    "import time\n",
    "import matplotlib.pyplot as plt\n",
    "\n",
    "from formulations import *\n",
    "\n",
    "import os\n",
    "import imageio"
   ]
  },
  {
   "cell_type": "markdown",
   "metadata": {},
   "source": [
    "## Feasibility regions"
   ]
  },
  {
   "cell_type": "code",
   "execution_count": 2,
   "metadata": {},
   "outputs": [],
   "source": [
    "def reshape_w(w, new_len, zero_loc):\n",
    "    assert(len(zero_loc) == 2)\n",
    "\n",
    "    w_new = np.zeros(new_len)\n",
    "    w_new[zero_loc[0]] = w[0]\n",
    "    w_new[zero_loc[1]] = w[1]\n",
    "\n",
    "    return w_new\n"
   ]
  },
  {
   "cell_type": "code",
   "execution_count": 3,
   "metadata": {},
   "outputs": [],
   "source": [
    "m = 5\n",
    "n = 3\n",
    "\n",
    "num_pts = 30\n",
    "npr.seed(2)\n",
    "\n",
    "t = np.linspace(0,np.pi*2+0.01,num_pts)\n",
    "circ = np.vstack((np.cos(t),np.sin(t))).T\n",
    "\n",
    "\n",
    "Data_sdp = np.zeros((num_pts, 2))\n",
    "Data_lp = np.zeros((num_pts, 2))\n",
    "\n",
    "K_mat = rand_01_mat(m,n)\n",
    "zero_loc = [2,3]\n",
    "r = 1\n",
    "\n",
    "\n",
    "for i in range(num_pts):\n",
    "    w = reshape_w(circ[i,:], m, zero_loc)\n",
    "    Data_sdp[i, :] = misp_sdp(K_mat, w, r, feas=True, x_test = False)[1][zero_loc]\n",
    "    Data_lp[i, :] = misp_lp(K_mat, w, r, feas=True, x_test = False)[2][zero_loc]\n",
    "\n",
    "x, y = Data_sdp[:,0], Data_sdp[:,1]\n",
    "x1,y1 = Data_lp[:,0], Data_lp[:,1]\n"
   ]
  },
  {
   "cell_type": "code",
   "execution_count": 12,
   "metadata": {},
   "outputs": [
    {
     "data": {
      "text/plain": [
       "<matplotlib.legend.Legend at 0x7f85b075c340>"
      ]
     },
     "execution_count": 12,
     "metadata": {},
     "output_type": "execute_result"
    },
    {
     "data": {
      "image/png": "[encoded data removed]",
      "text/plain": [
       "<Figure size 640x480 with 1 Axes>"
      ]
     },
     "metadata": {},
     "output_type": "display_data"
    }
   ],
   "source": [
    "plt.scatter(x1,y1, label = \"lp\")\n",
    "plt.scatter(x,y, label = \"sdp\")\n",
    "# plt.xlim(-0.2,1.2)\n",
    "# plt.ylim(-0.2,1.2)\n",
    "# plt.scatter(x1,y1, label = \"lp\")\n",
    "plt.title(\"y Feasibe Region (m = {}, n = {}, r = {})\".format(m,n,r))\n",
    "plt.legend()"
   ]
  },
  {
   "cell_type": "code",
   "execution_count": null,
   "metadata": {},
   "outputs": [
    {
     "name": "stderr",
     "output_type": "stream",
     "text": [
      "/var/folders/19/8vdtx5nd3sq7rqsqkrvs3vj80000gn/T/ipykernel_9769/707833979.py:17: DeprecationWarning: Starting with ImageIO v3 the behavior of this function will switch to that of iio.v3.imread. To keep the current behavior (and make this warning disappear) use `import imageio.v2 as imageio` or call `imageio.v2.imread` directly.\n",
      "  image = imageio.imread(filename)\n"
     ]
    }
   ],
   "source": [
    "filenames = []\n",
    "for i in range(num_pts):\n",
    "    plt.scatter(x[:i],y[:i], label = \"sdp\")\n",
    "    plt.xlim(-0.2,1.2)\n",
    "    plt.ylim(-0.2,1.2)\n",
    "    # plt.scatter(x1,y1, label = \"lp\")\n",
    "    plt.title(\"Feasibe Region (m = {}, n = {}, r = {})\".format(m,n,r))\n",
    "    plt.legend()\n",
    "\n",
    "    filename = f'gif_images/{i}.png'\n",
    "    filenames.append(filename)\n",
    "    plt.savefig(filename)\n",
    "    plt.close()\n",
    "\n",
    "with imageio.get_writer('gifs/feas.gif', mode='I') as writer:\n",
    "    for filename in filenames:\n",
    "        image = imageio.imread(filename)\n",
    "        writer.append_data(image)\n",
    "\n",
    "\n"
   ]
  },
  {
   "cell_type": "markdown",
   "metadata": {},
   "source": [
    "# Swapped Problem"
   ]
  },
  {
   "cell_type": "code",
   "execution_count": 4,
   "metadata": {},
   "outputs": [],
   "source": [
    " a = np.ones((3,3))\n",
    "a[0,2] = 0\n",
    "a[2,0] = 0"
   ]
  },
  {
   "cell_type": "code",
   "execution_count": 6,
   "metadata": {},
   "outputs": [
    {
     "data": {
      "text/plain": [
       "array([-0.41421356,  1.        ,  2.41421356])"
      ]
     },
     "execution_count": 6,
     "metadata": {},
     "output_type": "execute_result"
    }
   ],
   "source": [
    "np.linalg.eigvals(a)"
   ]
  },
  {
   "cell_type": "code",
   "execution_count": null,
   "metadata": {},
   "outputs": [],
   "source": []
  }
 ],
 "metadata": {
  "kernelspec": {
   "display_name": "lro",
   "language": "python",
   "name": "python3"
  },
  "language_info": {
   "codemirror_mode": {
    "name": "ipython",
    "version": 3
   },
   "file_extension": ".py",
   "mimetype": "text/x-python",
   "name": "python",
   "nbconvert_exporter": "python",
   "pygments_lexer": "ipython3",
   "version": "3.10.6"
  },
  "orig_nbformat": 4
 },
 "nbformat": 4,
 "nbformat_minor": 2
}
