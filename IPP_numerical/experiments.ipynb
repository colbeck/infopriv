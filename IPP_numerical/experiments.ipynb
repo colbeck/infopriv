{
 "cells": [
  {
   "cell_type": "code",
   "execution_count": 1,
   "metadata": {},
   "outputs": [],
   "source": [
    "import numpy as np\n",
    "import numpy.random as npr\n",
    "import cvxpy as cp\n",
    "import time\n",
    "import matplotlib.pyplot as plt\n",
    "\n",
    "from formulations import *\n",
    "\n",
    "import os\n",
    "import imageio"
   ]
  },
  {
   "attachments": {},
   "cell_type": "markdown",
   "metadata": {},
   "source": [
    "## Small Experiment (m = 30,n = 8), trials = 10"
   ]
  },
  {
   "cell_type": "code",
   "execution_count": 16,
   "metadata": {},
   "outputs": [
    {
     "name": "stdout",
     "output_type": "stream",
     "text": [
      "1.00\r"
     ]
    }
   ],
   "source": [
    "m = 20\n",
    "n = 5\n",
    "trials = 5\n",
    "Data_mat = np.zeros((trials, m + 1))\n",
    "Data_mat_lp = np.zeros((trials, m + 1))\n",
    "Data_mat_sdp = np.zeros((trials, m + 1))\n",
    "\n",
    "Data_col = np.zeros((trials, m + 1))\n",
    "Data_col_lp = np.zeros((trials, m + 1))\n",
    "Data_col_sdp = np.zeros((trials, m + 1))\n",
    "\n",
    "x_true_mat = np.zeros((m+1,n))\n",
    "x_lp_mat = np.zeros((m+1,n))\n",
    "\n",
    "npr.seed(2)\n",
    "K_mat = rand_01_mat(m,n)\n",
    "w = np.ones(n)\n",
    "for r in range(m + 1):\n",
    "    print(\"%.2f\" %(r/(m)), end = \"\\r\")\n",
    "    for trial in range(trials):\n",
    "        # K_mat = rand_01_mat(m,n)\n",
    "\n",
    "        # K_col = rand_01_col_mat(m,n)\n",
    "        # w = npr.randint(1,5,n)\n",
    "        # Data_mat[trial,r], x_true_mat[r,:], _ = misp(K_mat,w,r)\n",
    "        # Data_mat_lp[trial,r], x_lp_mat[r,:], _ = misp_lp(K_mat,w,r)\n",
    "        # Data_mat_sdp[trial,r], _  = misp_sdp(K_mat,w,r)\n",
    "\n",
    "        # Data_col[trial,r], _, _ = misp(K_col,w,r)\n",
    "        # Data_col_lp[trial,r], _, _ = misp_lp(K_col,w,r)\n",
    "        # Data_col_sdp[trial,r], _ = misp_sdp(K_col,w,r)\n",
    "\n",
    "        #### GROUP ####\n",
    "        Data_mat[trial,r], x_true_mat[r,:] = misp_grp(K_mat,w,r)\n",
    "        Data_mat_lp[trial,r], x_lp_mat[r,:] = misp_grp_lp(K_mat,w,r)\n",
    "\n"
   ]
  },
  {
   "attachments": {},
   "cell_type": "markdown",
   "metadata": {},
   "source": [
    "## Compare Values for normal matrix"
   ]
  },
  {
   "cell_type": "code",
   "execution_count": 17,
   "metadata": {},
   "outputs": [
    {
     "data": {
      "text/plain": [
       "<matplotlib.legend.Legend at 0x7f81f8d2c6a0>"
      ]
     },
     "execution_count": 17,
     "metadata": {},
     "output_type": "execute_result"
    },
    {
     "data": {
      "image/png": "[encoded data removed]",
      "text/plain": [
       "<Figure size 640x480 with 1 Axes>"
      ]
     },
     "metadata": {},
     "output_type": "display_data"
    }
   ],
   "source": [
    "plt.plot(np.mean(Data_mat, axis=0),'o-', label=\"True Val\")\n",
    "plt.plot(np.mean(Data_mat_lp, axis=0),'o-',label=\"LP Val\")\n",
    "# plt.plot(np.mean(Data_mat_sdp, axis=0),label=\"SDP Val\")\n",
    "plt.xlabel(\"r\")\n",
    "plt.ylabel(\"min $w^T x$\")\n",
    "plt.title(\"Random Mat MISP group (m = {}, n = {}, trials = {})\".format(m,n,trials))\n",
    "plt.legend()"
   ]
  },
  {
   "cell_type": "code",
   "execution_count": null,
   "metadata": {},
   "outputs": [],
   "source": [
    "Data_normed_lp = (np.mean(Data_mat, axis=0) - np.mean(Data_mat_lp, axis=0))/np.mean(Data_mat, axis=0)\n",
    "\n",
    "plt.plot(Data_normed_lp,label=\"(True - LP)/(LP)\")\n",
    "plt.xlabel(\"r\")\n",
    "plt.ylabel(\"(TRUE- LP)/(LP)\")\n",
    "plt.title(\"Random Mat MISP (m = {}, n = {}, trials = {})\".format(m,n,trials))\n",
    "plt.legend()"
   ]
  },
  {
   "cell_type": "code",
   "execution_count": null,
   "metadata": {},
   "outputs": [],
   "source": [
    "Data_normed_lp = (np.mean(Data_mat, axis=0) - np.mean(Data_mat_sdp, axis=0))/np.mean(Data_mat, axis=0)\n",
    "\n",
    "plt.plot(Data_normed_lp,label=\"(True - SDP)/(SDP)\")\n",
    "plt.xlabel(\"r\")\n",
    "plt.ylabel(\"(TRUE- SDP)/(SDP)\")\n",
    "plt.title(\"Random Mat MISP (m = {}, n = {}, trials = {})\".format(m,n,trials))\n",
    "plt.legend()"
   ]
  },
  {
   "attachments": {},
   "cell_type": "markdown",
   "metadata": {},
   "source": [
    "## Plot for random col matrix"
   ]
  },
  {
   "cell_type": "code",
   "execution_count": null,
   "metadata": {},
   "outputs": [],
   "source": [
    "plt.plot(np.mean(Data_col, axis=0),label=\"True Val\")\n",
    "plt.plot(np.mean(Data_col_lp, axis=0),label=\"LP Val\")\n",
    "plt.plot(np.mean(Data_col_sdp, axis=0),label=\"SDP Val\")\n",
    "plt.xlabel(\"r\")\n",
    "plt.ylabel(\"max $w^T x$\")\n",
    "plt.title(\"Random Col Mat MISP (m = {}, n = {}, trials = {})\".format(m,n,trials))\n",
    "plt.legend()"
   ]
  },
  {
   "cell_type": "code",
   "execution_count": null,
   "metadata": {},
   "outputs": [],
   "source": [
    "Data_normed_lp_col = (np.mean(Data_col, axis=0) - np.mean(Data_col_lp, axis=0))/np.mean(Data_col, axis=0)\n",
    "\n",
    "plt.plot(Data_normed_lp_col,label=\"(True - LP)/(LP)\")\n",
    "plt.xlabel(\"r\")\n",
    "plt.ylabel(\"(TRUE- LP)/(LP)\")\n",
    "plt.title(\"Random Col MISP (m = {}, n = {}, trials = {})\".format(m,n,trials))\n",
    "plt.legend()"
   ]
  },
  {
   "cell_type": "code",
   "execution_count": null,
   "metadata": {},
   "outputs": [],
   "source": [
    "Data_normed_sdp_col = (np.mean(Data_col, axis=0) - np.mean(Data_col_sdp, axis=0))/np.mean(Data_col, axis=0)\n",
    "\n",
    "plt.plot(Data_normed_lp_col,label=\"(True - SDP)/(SDP)\")\n",
    "plt.xlabel(\"r\")\n",
    "plt.ylabel(\"(TRUE- SDP)/(SDP)\")\n",
    "plt.title(\"Random Col MISP (m = {}, n = {}, trials = {})\".format(m,n,trials))\n",
    "plt.legend()"
   ]
  },
  {
   "attachments": {},
   "cell_type": "markdown",
   "metadata": {},
   "source": [
    "## Adding in Extra constraints"
   ]
  },
  {
   "attachments": {},
   "cell_type": "markdown",
   "metadata": {},
   "source": []
  }
 ],
 "metadata": {
  "kernelspec": {
   "display_name": "Python 3",
   "language": "python",
   "name": "python3"
  },
  "language_info": {
   "codemirror_mode": {
    "name": "ipython",
    "version": 3
   },
   "file_extension": ".py",
   "mimetype": "text/x-python",
   "name": "python",
   "nbconvert_exporter": "python",
   "pygments_lexer": "ipython3",
   "version": "3.10.6"
  },
  "orig_nbformat": 4
 },
 "nbformat": 4,
 "nbformat_minor": 2
}
