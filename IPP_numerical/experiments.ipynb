{
 "cells": [
  {
   "cell_type": "code",
   "execution_count": 1,
   "metadata": {},
   "outputs": [],
   "source": [
    "import numpy as np\n",
    "import numpy.random as npr\n",
    "import cvxpy as cp\n",
    "import time\n",
    "import matplotlib.pyplot as plt\n",
    "\n",
    "from formulations import *"
   ]
  },
  {
   "cell_type": "code",
   "execution_count": 2,
   "metadata": {},
   "outputs": [],
   "source": [
    "m = 20\n",
    "n = 5\n",
    "trials = 10"
   ]
  },
  {
   "cell_type": "code",
   "execution_count": 3,
   "metadata": {},
   "outputs": [],
   "source": [
    "def rand_01_mat(m,n):\n",
    "    return npr.randint(0,2,size = (m,n))\n",
    "\n",
    "def rand_01_col_mat(m,n):\n",
    "    prob = npr.rand(n)\n",
    "    return npr.binomial(1,prob, size = (m,n))"
   ]
  },
  {
   "cell_type": "code",
   "execution_count": 5,
   "metadata": {},
   "outputs": [],
   "source": [
    "trials = 1\n",
    "Data = np.zeros((trials, n))\n",
    "for r in range(n):\n",
    "    for trial in range(trials):\n",
    "        K = rand_01_mat(m,n)\n",
    "        w = np.ones(n)\n",
    "        Data[trial,r], _, _ = misp(K,w,r)\n",
    "\n"
   ]
  },
  {
   "cell_type": "code",
   "execution_count": 96,
   "metadata": {},
   "outputs": [],
   "source": [
    "def misp(D_rho, w, r):\n",
    "    m,n = D_rho.shape\n",
    "    x = cp.Variable(n, boolean = True)\n",
    "    y = cp.Variable(m, boolean = True)\n",
    "    obj = cp.Minimize(w @ x)\n",
    "    cons = [D_rho @ x >= y, cp.sum(y) >= m-r]\n",
    "    prob = cp.Problem(obj, cons)\n",
    "    prob.solve()\n",
    "    return prob.value, x.value, y.value"
   ]
  },
  {
   "cell_type": "code",
   "execution_count": null,
   "metadata": {},
   "outputs": [],
   "source": [
    "plt.plot(np.mean(Data, axis=0))\n",
    "plt.xlabel(\"r\")\n",
    "plt.ylabel(\"max $w^T x$\")\n",
    "plt.title(\"Prob 1 MISP (m = %, n = 10)\")"
   ]
  }
 ],
 "metadata": {
  "kernelspec": {
   "display_name": "Python 3",
   "language": "python",
   "name": "python3"
  },
  "language_info": {
   "codemirror_mode": {
    "name": "ipython",
    "version": 3
   },
   "file_extension": ".py",
   "mimetype": "text/x-python",
   "name": "python",
   "nbconvert_exporter": "python",
   "pygments_lexer": "ipython3",
   "version": "3.10.6"
  },
  "orig_nbformat": 4
 },
 "nbformat": 4,
 "nbformat_minor": 2
}
