{
 "cells": [
  {
   "cell_type": "code",
   "execution_count": 1,
   "metadata": {},
   "outputs": [],
   "source": [
    "import numpy as np\n",
    "import numpy.random as npr\n",
    "import cvxpy as cp\n",
    "import time\n",
    "import matplotlib.pyplot as plt\n",
    "\n",
    "from formulations import *\n",
    "from utils import *\n",
    "\n",
    "import os\n",
    "import imageio"
   ]
  },
  {
   "cell_type": "code",
   "execution_count": 6,
   "metadata": {},
   "outputs": [],
   "source": [
    "n = 5\n",
    "a = np.zeros((5,5))\n",
    "a[0,1] = 1\n",
    "a[0,4] = 1\n",
    "a[1,0] = 1\n",
    "a[1,2] = 1\n",
    "a[2,1] = 1\n",
    "a[2,3] = 1\n",
    "a[3,2] = 1\n",
    "a[3,4] = 1\n",
    "a[4,0] = 1\n",
    "a[4,3] = 1\n",
    "K_mat = a\n",
    "w = np.ones(n)\n",
    "r = 0\n",
    "\n",
    "lp_val, x_lp, _ = misp_lp(K_mat,w,r)\n",
    "sdp_val, X_sdp  = misp_sdp(K_mat,w,r)"
   ]
  },
  {
   "cell_type": "code",
   "execution_count": 7,
   "metadata": {},
   "outputs": [
    {
     "data": {
      "text/plain": [
       "2.4999999999287352"
      ]
     },
     "execution_count": 7,
     "metadata": {},
     "output_type": "execute_result"
    }
   ],
   "source": [
    "lp_val"
   ]
  },
  {
   "cell_type": "code",
   "execution_count": 8,
   "metadata": {},
   "outputs": [
    {
     "data": {
      "text/plain": [
       "2.49999040673251"
      ]
     },
     "execution_count": 8,
     "metadata": {},
     "output_type": "execute_result"
    }
   ],
   "source": [
    "sdp_val"
   ]
  },
  {
   "cell_type": "code",
   "execution_count": 20,
   "metadata": {},
   "outputs": [
    {
     "data": {
      "text/plain": [
       "1.9999862434133238"
      ]
     },
     "execution_count": 20,
     "metadata": {},
     "output_type": "execute_result"
    }
   ],
   "source": [
    "opt_val_sdp"
   ]
  },
  {
   "cell_type": "code",
   "execution_count": 21,
   "metadata": {},
   "outputs": [
    {
     "data": {
      "text/plain": [
       "array([0.66655385, 0.66655385, 0.6668923 ])"
      ]
     },
     "execution_count": 21,
     "metadata": {},
     "output_type": "execute_result"
    }
   ],
   "source": [
    "5-np.sqrt(5)\n",
    "x"
   ]
  },
  {
   "cell_type": "code",
   "execution_count": 25,
   "metadata": {},
   "outputs": [
    {
     "data": {
      "text/plain": [
       "array([0.84021024, 0.84021024, 0.31956577])"
      ]
     },
     "execution_count": 25,
     "metadata": {},
     "output_type": "execute_result"
    }
   ],
   "source": [
    "X[:n,-1]"
   ]
  },
  {
   "cell_type": "code",
   "execution_count": null,
   "metadata": {},
   "outputs": [],
   "source": []
  },
  {
   "attachments": {},
   "cell_type": "markdown",
   "metadata": {},
   "source": [
    "## Small Experiment (m = 30,n = 8), trials = 10"
   ]
  },
  {
   "cell_type": "code",
   "execution_count": 1,
   "metadata": {},
   "outputs": [
    {
     "ename": "NameError",
     "evalue": "name 'np' is not defined",
     "output_type": "error",
     "traceback": [
      "\u001b[0;31m---------------------------------------------------------------------------\u001b[0m",
      "\u001b[0;31mNameError\u001b[0m                                 Traceback (most recent call last)",
      "\u001b[1;32m/Users/colebecker/Desktop/colbeck/Research/AAA Research/infopriv/IPP_numerical/experiments.ipynb Cell 10\u001b[0m in \u001b[0;36m4\n\u001b[1;32m      <a href='vscode-notebook-cell:/Users/colebecker/Desktop/colbeck/Research/AAA%20Research/infopriv/IPP_numerical/experiments.ipynb#X12sZmlsZQ%3D%3D?line=1'>2</a>\u001b[0m n \u001b[39m=\u001b[39m \u001b[39m4\u001b[39m\n\u001b[1;32m      <a href='vscode-notebook-cell:/Users/colebecker/Desktop/colbeck/Research/AAA%20Research/infopriv/IPP_numerical/experiments.ipynb#X12sZmlsZQ%3D%3D?line=2'>3</a>\u001b[0m trials \u001b[39m=\u001b[39m \u001b[39m5\u001b[39m\n\u001b[0;32m----> <a href='vscode-notebook-cell:/Users/colebecker/Desktop/colbeck/Research/AAA%20Research/infopriv/IPP_numerical/experiments.ipynb#X12sZmlsZQ%3D%3D?line=3'>4</a>\u001b[0m Data_mat \u001b[39m=\u001b[39m np\u001b[39m.\u001b[39mzeros((trials, m \u001b[39m+\u001b[39m \u001b[39m1\u001b[39m))\n\u001b[1;32m      <a href='vscode-notebook-cell:/Users/colebecker/Desktop/colbeck/Research/AAA%20Research/infopriv/IPP_numerical/experiments.ipynb#X12sZmlsZQ%3D%3D?line=4'>5</a>\u001b[0m Data_mat_lp \u001b[39m=\u001b[39m np\u001b[39m.\u001b[39mzeros((trials, m \u001b[39m+\u001b[39m \u001b[39m1\u001b[39m))\n\u001b[1;32m      <a href='vscode-notebook-cell:/Users/colebecker/Desktop/colbeck/Research/AAA%20Research/infopriv/IPP_numerical/experiments.ipynb#X12sZmlsZQ%3D%3D?line=5'>6</a>\u001b[0m Data_mat_sdp \u001b[39m=\u001b[39m np\u001b[39m.\u001b[39mzeros((trials, m \u001b[39m+\u001b[39m \u001b[39m1\u001b[39m))\n",
      "\u001b[0;31mNameError\u001b[0m: name 'np' is not defined"
     ]
    }
   ],
   "source": [
    "m = 7\n",
    "n = 4\n",
    "trials = 5\n",
    "Data_mat = np.zeros((trials, m + 1))\n",
    "Data_mat_lp = np.zeros((trials, m + 1))\n",
    "Data_mat_sdp = np.zeros((trials, m + 1))\n",
    "\n",
    "Data_col = np.zeros((trials, m + 1))\n",
    "Data_col_lp = np.zeros((trials, m + 1))\n",
    "Data_col_sdp = np.zeros((trials, m + 1))\n",
    "\n",
    "x_true_mat = np.zeros((m+1,n))\n",
    "x_lp_mat = np.zeros((m+1,n))\n",
    "\n",
    "npr.seed(1)\n",
    "K_mat = rand_01_mat(m,n)\n",
    "w = np.ones(n)\n",
    "for r in range(m + 1):\n",
    "    print(\"%.2f\" %(r/(m)), end = \"\\r\")\n",
    "    for trial in range(trials):\n",
    "\n",
    "        # K_col = rand_01_col_mat(m,n)\n",
    "        # w = npr.randint(1,5,n)\n",
    "        # Data_mat[trial,r], x_true_mat[r,:], _ = misp(K_mat,w,r)\n",
    "        Data_mat_lp[trial,r], x_lp_mat[r,:], _ = misp_lp(K_mat,w,r)\n",
    "        Data_mat_sdp[trial,r], _  = misp_sdp(K_mat,w,r)\n",
    "\n",
    "        # Data_col[trial,r], _, _ = misp(K_col,w,r)\n",
    "        # Data_col_lp[trial,r], _, _ = misp_lp(K_col,w,r)\n",
    "        # Data_col_sdp[trial,r], _ = misp_sdp(K_col,w,r)\n",
    "\n",
    "        #### GROUP ####\n",
    "        # Data_mat[trial,r], x_true_mat[r,:] = misp_grp(K_mat,w,r)\n",
    "        # Data_mat_lp[trial,r], x_lp_mat[r,:] = misp_grp_lp(K_mat,w,r)\n",
    "\n"
   ]
  },
  {
   "cell_type": "code",
   "execution_count": 3,
   "metadata": {},
   "outputs": [
    {
     "data": {
      "text/plain": [
       "3.9651833257714486e-05"
      ]
     },
     "execution_count": 3,
     "metadata": {},
     "output_type": "execute_result"
    }
   ],
   "source": [
    "np.max(np.abs(Data_mat_lp - Data_mat_sdp))"
   ]
  },
  {
   "attachments": {},
   "cell_type": "markdown",
   "metadata": {},
   "source": [
    "## Compare Values for normal matrix"
   ]
  },
  {
   "cell_type": "code",
   "execution_count": 27,
   "metadata": {},
   "outputs": [
    {
     "data": {
      "text/plain": [
       "<matplotlib.legend.Legend at 0x7fde2898dd20>"
      ]
     },
     "execution_count": 27,
     "metadata": {},
     "output_type": "execute_result"
    },
    {
     "data": {
      "image/png": "[encoded data removed]",
      "text/plain": [
       "<Figure size 640x480 with 1 Axes>"
      ]
     },
     "metadata": {},
     "output_type": "display_data"
    }
   ],
   "source": [
    "plt.plot(np.mean(Data_mat, axis=0),'o-', label=\"True Val\")\n",
    "plt.plot(np.mean(Data_mat_lp, axis=0),'o-',label=\"LP Val\")\n",
    "# plt.plot(np.mean(Data_mat_sdp, axis=0),label=\"SDP Val\")\n",
    "plt.xlabel(\"r\")\n",
    "plt.ylabel(\"min $w^T x$\")\n",
    "plt.title(\"Random Mat MISP group (m = {}, n = {}, trials = {})\".format(m,n,trials))\n",
    "plt.legend()"
   ]
  },
  {
   "cell_type": "code",
   "execution_count": null,
   "metadata": {},
   "outputs": [],
   "source": [
    "Data_normed_lp = (np.mean(Data_mat, axis=0) - np.mean(Data_mat_lp, axis=0))/np.mean(Data_mat, axis=0)\n",
    "\n",
    "plt.plot(Data_normed_lp,label=\"(True - LP)/(LP)\")\n",
    "plt.xlabel(\"r\")\n",
    "plt.ylabel(\"(TRUE- LP)/(LP)\")\n",
    "plt.title(\"Random Mat MISP (m = {}, n = {}, trials = {})\".format(m,n,trials))\n",
    "plt.legend()"
   ]
  },
  {
   "cell_type": "code",
   "execution_count": null,
   "metadata": {},
   "outputs": [],
   "source": [
    "Data_normed_lp = (np.mean(Data_mat, axis=0) - np.mean(Data_mat_sdp, axis=0))/np.mean(Data_mat, axis=0)\n",
    "\n",
    "plt.plot(Data_normed_lp,label=\"(True - SDP)/(SDP)\")\n",
    "plt.xlabel(\"r\")\n",
    "plt.ylabel(\"(TRUE- SDP)/(SDP)\")\n",
    "plt.title(\"Random Mat MISP (m = {}, n = {}, trials = {})\".format(m,n,trials))\n",
    "plt.legend()"
   ]
  },
  {
   "attachments": {},
   "cell_type": "markdown",
   "metadata": {},
   "source": [
    "## Plot for random col matrix"
   ]
  },
  {
   "cell_type": "code",
   "execution_count": null,
   "metadata": {},
   "outputs": [],
   "source": [
    "plt.plot(np.mean(Data_col, axis=0),label=\"True Val\")\n",
    "plt.plot(np.mean(Data_col_lp, axis=0),label=\"LP Val\")\n",
    "plt.plot(np.mean(Data_col_sdp, axis=0),label=\"SDP Val\")\n",
    "plt.xlabel(\"r\")\n",
    "plt.ylabel(\"max $w^T x$\")\n",
    "plt.title(\"Random Col Mat MISP (m = {}, n = {}, trials = {})\".format(m,n,trials))\n",
    "plt.legend()"
   ]
  },
  {
   "cell_type": "code",
   "execution_count": null,
   "metadata": {},
   "outputs": [],
   "source": [
    "Data_normed_lp_col = (np.mean(Data_col, axis=0) - np.mean(Data_col_lp, axis=0))/np.mean(Data_col, axis=0)\n",
    "\n",
    "plt.plot(Data_normed_lp_col,label=\"(True - LP)/(LP)\")\n",
    "plt.xlabel(\"r\")\n",
    "plt.ylabel(\"(TRUE- LP)/(LP)\")\n",
    "plt.title(\"Random Col MISP (m = {}, n = {}, trials = {})\".format(m,n,trials))\n",
    "plt.legend()"
   ]
  },
  {
   "cell_type": "code",
   "execution_count": null,
   "metadata": {},
   "outputs": [],
   "source": [
    "Data_normed_sdp_col = (np.mean(Data_col, axis=0) - np.mean(Data_col_sdp, axis=0))/np.mean(Data_col, axis=0)\n",
    "\n",
    "plt.plot(Data_normed_lp_col,label=\"(True - SDP)/(SDP)\")\n",
    "plt.xlabel(\"r\")\n",
    "plt.ylabel(\"(TRUE- SDP)/(SDP)\")\n",
    "plt.title(\"Random Col MISP (m = {}, n = {}, trials = {})\".format(m,n,trials))\n",
    "plt.legend()"
   ]
  },
  {
   "attachments": {},
   "cell_type": "markdown",
   "metadata": {},
   "source": [
    "## Adding in Extra constraints"
   ]
  },
  {
   "attachments": {},
   "cell_type": "markdown",
   "metadata": {},
   "source": []
  }
 ],
 "metadata": {
  "kernelspec": {
   "display_name": "Python 3",
   "language": "python",
   "name": "python3"
  },
  "language_info": {
   "codemirror_mode": {
    "name": "ipython",
    "version": 3
   },
   "file_extension": ".py",
   "mimetype": "text/x-python",
   "name": "python",
   "nbconvert_exporter": "python",
   "pygments_lexer": "ipython3",
   "version": "3.10.6"
  },
  "orig_nbformat": 4
 },
 "nbformat": 4,
 "nbformat_minor": 2
}
