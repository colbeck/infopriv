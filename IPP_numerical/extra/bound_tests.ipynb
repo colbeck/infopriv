{
 "cells": [
  {
   "cell_type": "code",
   "execution_count": 51,
   "metadata": {},
   "outputs": [],
   "source": [
    "import numpy as np\n",
    "import numpy.random as npr\n",
    "import cvxpy as cp\n",
    "import time"
   ]
  },
  {
   "cell_type": "markdown",
   "metadata": {},
   "source": [
    "### Define Functions"
   ]
  },
  {
   "cell_type": "code",
   "execution_count": 3,
   "metadata": {},
   "outputs": [],
   "source": [
    "def greedy_lower_bound_1(K, w, r): # Greedy Lower bound\n",
    "    m,n = K.shape\n",
    "    K_bar = 1-K\n",
    "    v = np.zeros(n)\n",
    "    for i in range(n):\n",
    "        v[i] = np.ones(m) @ K_bar[:, i] * w[i]\n",
    "\n",
    "    v_srtd = np.flip(np.argsort(v))\n",
    "    v[v_srtd]\n",
    "\n",
    "    # v_srtd is the arguments of the \"most important\" features to pick\n",
    "\n",
    "    x = np.zeros(n)\n",
    "    for i in range(n):\n",
    "        x_temp = np.copy(x)\n",
    "        x_temp[v_srtd[i]] = 1\n",
    "        if np.count_nonzero(K @ x_temp) <= m*(1-r):\n",
    "            x = x_temp\n",
    "\n",
    "    # COUNT IS LOWER BOUND\n",
    "    count = x @ w\n",
    "    return count, x"
   ]
  },
  {
   "cell_type": "code",
   "execution_count": 4,
   "metadata": {},
   "outputs": [],
   "source": [
    "def greedy_lower_bound_2(K, w, r): # Greedy Lower bound\n",
    "    m,n = K.shape\n",
    "    K_bar = 1-K\n",
    "    v = np.zeros(n)\n",
    "    for i in range(n):\n",
    "        v[i] = np.ones(m) @ (1 / (K[:, i] + 1)) * w[i]\n",
    "\n",
    "    v_srtd = np.flip(np.argsort(v))\n",
    "    v[v_srtd]\n",
    "\n",
    "    # v_srtd is the arguments of the \"most important\" features to pick\n",
    "\n",
    "    x = np.zeros(n)\n",
    "    for i in range(n):\n",
    "        x_temp = np.copy(x)\n",
    "        x_temp[v_srtd[i]] = 1\n",
    "        if np.count_nonzero(K @ x_temp) <= m*(1-r):\n",
    "            x = x_temp\n",
    "\n",
    "    # COUNT IS LOWER BOUND\n",
    "    count = x @ w\n",
    "    return count, x"
   ]
  },
  {
   "cell_type": "code",
   "execution_count": 5,
   "metadata": {},
   "outputs": [],
   "source": [
    "#DYNAMIC PROGRAMMING ALGORITHM"
   ]
  },
  {
   "cell_type": "code",
   "execution_count": 6,
   "metadata": {},
   "outputs": [],
   "source": [
    "def solve_mip_upper_bound(K, w, r): # LP upper bound\n",
    "    m,n = K.shape\n",
    "    K_bar = 1 - K\n",
    "    x = cp.Variable(n, boolean = True)\n",
    "    obj = cp.Maximize(w @ x)\n",
    "    # cons = [cp.norm(K @ x, p = 0) <= m * (1-r)]\n",
    "    cons = [r * m * cp.sum(x) - np.ones(m) @ K_bar @ x <= 0]\n",
    "    # cons += [x <= 1, 0 <= x]\n",
    "\n",
    "    prob = cp.Problem(obj, cons)\n",
    "    prob.solve()\n",
    "    return prob.value, x.value"
   ]
  },
  {
   "cell_type": "code",
   "execution_count": 7,
   "metadata": {},
   "outputs": [],
   "source": [
    "def solve_mip_lower_bound(K, w, r): # LP upper bound\n",
    "    m,n = K.shape\n",
    "    x = cp.Variable(n, boolean = True)\n",
    "    obj = cp.Maximize(w @ x)\n",
    "    # cons = [cp.norm(K @ x, p = 0) <= m * (1-r)]\n",
    "    cons = [np.ones(m) @ K @ x <= m * (1-r)]\n",
    "    # cons += [x <= 1, 0 <= x]\n",
    "\n",
    "    prob = cp.Problem(obj, cons)\n",
    "    prob.solve()\n",
    "    return prob.value, x.value"
   ]
  },
  {
   "cell_type": "code",
   "execution_count": 8,
   "metadata": {},
   "outputs": [],
   "source": [
    "def sdp_relaxation(K,w,r): # poor sdp relaxation\n",
    "    m,n = K.shape\n",
    "    K_bar = 1 - K\n",
    "    X = cp.Variable((n+m+1,n+m+1), PSD = True)\n",
    "\n",
    "    obj = cp.Maximize(w @ X[n+m,:n])\n",
    "    cons = []\n",
    "    cons += [cp.sum(X[n+m,n:n+m]) >= r*m]\n",
    "\n",
    "    for i in range(n):\n",
    "        cons += [X[i,i] == X[n+m,i]]\n",
    "    for j in range(n, n+m):\n",
    "        cons += [X[j,j] == X[n+m,j]]\n",
    "    cons += [X[m+n,m+n] == 1]\n",
    "    for i in range(n):\n",
    "        for j in range(m):\n",
    "            if K[j,i] == 1:\n",
    "                cons += [X[i,n+j] == 0]\n",
    "    # cons += [X[n+m,:n] <= 1, 0 <= X[n+m,:n]]\n",
    "    cons += [X <= 1, 0 <= X]\n",
    "    cons += [r * m * cp.sum(X[n+m,:n]) - np.ones(m) @ K_bar @ X[n+m,:n] <= 0]\n",
    "\n",
    "\n",
    "    prob = cp.Problem(obj, cons)\n",
    "\n",
    "    prob.solve()\n",
    "    return prob.value, X.value"
   ]
  },
  {
   "cell_type": "code",
   "execution_count": 9,
   "metadata": {},
   "outputs": [],
   "source": [
    "def true_const_sat(K, r, x): # is the actual constraint satisfied\n",
    "    m,_ = K.shape\n",
    "    return np.count_nonzero(K @ x) <= m*(1-r)"
   ]
  },
  {
   "cell_type": "code",
   "execution_count": 10,
   "metadata": {},
   "outputs": [],
   "source": [
    "def expon_time_alg(K, w, r):\n",
    "    m,n = K.shape\n",
    "    x = np.zeros(n)\n",
    "    best_val = 0\n",
    "    for i in range(2 ** n):\n",
    "        x_temp =np.array(list(np.binary_repr(i).zfill(n)), dtype=int) \n",
    "        if true_const_sat(K,r,x_temp) and w @ x_temp >= best_val:\n",
    "            x = x_temp\n",
    "            best_val = w @ x\n",
    "    return best_val, x\n"
   ]
  },
  {
   "cell_type": "code",
   "execution_count": 55,
   "metadata": {},
   "outputs": [],
   "source": [
    "def int_program(K, w, r):\n",
    "    m,n = K.shape\n",
    "    x = cp.Variable(n, boolean = True)\n",
    "    y = cp.Variable(m)\n",
    "    z = cp.Variable(m, boolean = True)\n",
    "    \n",
    "    u = np.sum(K, axis = 1)\n",
    "    C = m * (1 - r)\n",
    "\n",
    "    cons = [y >= 0, y <= cp.multiply(u,z)]\n",
    "    cons += [cp.sum(z) <= C]\n",
    "    cons += [K @ x == y]\n",
    "\n",
    "    obj = cp.Maximize(w @ x)\n",
    "    prob = cp.Problem(obj, cons)\n",
    "    prob.solve()\n",
    "    \n",
    "    return prob.value, x.value"
   ]
  },
  {
   "cell_type": "markdown",
   "metadata": {},
   "source": [
    "## Make random data matrix"
   ]
  },
  {
   "cell_type": "code",
   "execution_count": 70,
   "metadata": {},
   "outputs": [],
   "source": [
    "npr.seed(2)\n",
    "\n",
    "m = 300\n",
    "n = 20\n",
    "k = 0\n",
    "\n",
    "D = npr.randint(2, size = (m,n))\n",
    "K = np.abs(D - D[k,:])\n",
    "K_bar = 1-K\n",
    "\n",
    "# information weighting vector\n",
    "w = npr.randint(0, 5, size = n)\n",
    "r = 0.6"
   ]
  },
  {
   "cell_type": "code",
   "execution_count": 71,
   "metadata": {},
   "outputs": [],
   "source": [
    "\n",
    "# p_val_low_g1, x_val_low_g1 = greedy_lower_bound_1(K,w,r)\n",
    "# p_val_low_g2, x_val_low_g2 = greedy_lower_bound_2(K,w,r)\n",
    "# p_val_mip_high, x_val_mip_high = solve_mip_upper_bound(K,w,r)\n",
    "# p_val_mip_low, x_val_mip_low = solve_mip_lower_bound(K,w,r)\n",
    "\n",
    "# bound_tight = true_const_sat(K, r, x_val_mip_high)\n",
    "\n",
    "p_val_high_sdp, x_val_high_sdp = sdp_relaxation(K,w,r)\n",
    "\n",
    "start_time = time.time()\n",
    "true_opt_val, true_opt_sol = int_program(K, w, r)\n",
    "end_time = time.time()\n",
    "\n",
    "# true_opt_val, true_opt_sol = expon_time_alg(K, w, r)"
   ]
  },
  {
   "cell_type": "code",
   "execution_count": 67,
   "metadata": {},
   "outputs": [
    {
     "name": "stdout",
     "output_type": "stream",
     "text": [
      "Lower_bound G1 =  7.0\n",
      "Lower_bound G2 =  7.0\n",
      "upper bound sdp =  25.500257744010607\n",
      "true value =  8.0\n",
      "TOTAL TIME =  0.011003255844116211\n"
     ]
    }
   ],
   "source": [
    "# print(\"Upper bound MIP = \", p_val_mip_high)\n",
    "# print(\"Lower bound MIP = \", p_val_mip_low)\n",
    "print(\"Lower_bound G1 = \", p_val_low_g1)\n",
    "print(\"Lower_bound G2 = \", p_val_low_g2)\n",
    "print(\"upper bound sdp = \", p_val_high_sdp)\n",
    "print(\"true value = \", true_opt_val)\n",
    "# print(\"upper bound LP tight = \", true_const_sat(K,r, x_val_mip_high))\n",
    "\n",
    "print(\"TOTAL TIME = \", end_time - start_time)\n",
    "\n"
   ]
  },
  {
   "cell_type": "code",
   "execution_count": 63,
   "metadata": {},
   "outputs": [
    {
     "data": {
      "text/plain": [
       "8.0"
      ]
     },
     "execution_count": 63,
     "metadata": {},
     "output_type": "execute_result"
    }
   ],
   "source": [
    "true_opt_sol @ w"
   ]
  },
  {
   "cell_type": "code",
   "execution_count": 64,
   "metadata": {},
   "outputs": [],
   "source": [
    "x = cp.Variable(5)\n",
    "\n",
    "constraints = [x[1]>=x[2],x[1]>=x[3],x[4]>=x[2],x[4]>=x[3]]\n",
    "constraints += [x>=0, np.ones(5)@x ==1, x[0] == 0]\n",
    "objective = cp.Minimize(7*x[1] + x[2] + 3*x[3] + 5*x[4])\n",
    "\n",
    "prob = cp.Problem(objective, constraints)"
   ]
  },
  {
   "cell_type": "code",
   "execution_count": 22,
   "metadata": {},
   "outputs": [
    {
     "data": {
      "text/plain": [
       "array([1.00083504e-13, 2.50000000e-01, 2.50000000e-01, 2.50000000e-01,\n",
       "       2.50000000e-01])"
      ]
     },
     "execution_count": 22,
     "metadata": {},
     "output_type": "execute_result"
    }
   ],
   "source": [
    "prob.solve()\n",
    "x.value"
   ]
  },
  {
   "cell_type": "code",
   "execution_count": 147,
   "metadata": {},
   "outputs": [
    {
     "name": "stdout",
     "output_type": "stream",
     "text": [
      "39\n"
     ]
    }
   ],
   "source": [
    "\n",
    "mem = {}\n",
    "def fib(n):\n",
    "    global counter\n",
    "    counter += 1\n",
    "    if n in mem:\n",
    "        return mem[n]\n",
    "    elif n == 0 or n == 1:\n",
    "        ans = 1\n",
    "        mem[n] = 1\n",
    "        return ans\n",
    "    else:\n",
    "        # ans = fib(n-1) + fib(n-2)\n",
    "        a = fib(n-1)\n",
    "        b = fib(n-2)\n",
    "        ans = a + b\n",
    "        mem[n] = ans\n",
    "        return ans\n",
    "    \n",
    "\n",
    "counter = 0\n",
    "fib(20)\n",
    "print(counter)"
   ]
  },
  {
   "cell_type": "code",
   "execution_count": 138,
   "metadata": {},
   "outputs": [
    {
     "data": {
      "text/plain": [
       "89"
      ]
     },
     "execution_count": 138,
     "metadata": {},
     "output_type": "execute_result"
    }
   ],
   "source": []
  },
  {
   "cell_type": "code",
   "execution_count": 139,
   "metadata": {},
   "outputs": [
    {
     "data": {
      "text/plain": [
       "19"
      ]
     },
     "execution_count": 139,
     "metadata": {},
     "output_type": "execute_result"
    }
   ],
   "source": []
  },
  {
   "cell_type": "code",
   "execution_count": null,
   "metadata": {},
   "outputs": [],
   "source": []
  },
  {
   "cell_type": "code",
   "execution_count": null,
   "metadata": {},
   "outputs": [],
   "source": []
  }
 ],
 "metadata": {
  "kernelspec": {
   "display_name": "lro",
   "language": "python",
   "name": "python3"
  },
  "language_info": {
   "codemirror_mode": {
    "name": "ipython",
    "version": 3
   },
   "file_extension": ".py",
   "mimetype": "text/x-python",
   "name": "python",
   "nbconvert_exporter": "python",
   "pygments_lexer": "ipython3",
   "version": "3.10.6"
  },
  "orig_nbformat": 4,
  "vscode": {
   "interpreter": {
    "hash": "e3ed6dde042e78d86e091991aef4e6276872e8fbcb7e1edcb6e9eacd7157f213"
   }
  }
 },
 "nbformat": 4,
 "nbformat_minor": 2
}
