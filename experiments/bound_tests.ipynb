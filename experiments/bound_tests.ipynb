{
 "cells": [
  {
   "cell_type": "code",
   "execution_count": 2,
   "metadata": {},
   "outputs": [],
   "source": [
    "import numpy as np\n",
    "import numpy.random as npr\n",
    "import cvxpy as cp"
   ]
  },
  {
   "cell_type": "markdown",
   "metadata": {},
   "source": [
    "### Define Functions"
   ]
  },
  {
   "cell_type": "code",
   "execution_count": 220,
   "metadata": {},
   "outputs": [],
   "source": [
    "def greedy_lower_bound(K, w, r):\n",
    "    m,n = K.shape\n",
    "    K_bar = 1-K\n",
    "    v = np.zeros(n)\n",
    "    for i in range(n):\n",
    "        v[i] = np.ones(m) @ K_bar[:, i] * w[i]\n",
    "\n",
    "    v_srtd = np.flip(np.argsort(v))\n",
    "    v[v_srtd]\n",
    "\n",
    "    # v_srtd is the arguments of the \"most important\" features to pick\n",
    "\n",
    "    x = np.zeros(n)\n",
    "    for i in range(n):\n",
    "        x_temp = np.copy(x)\n",
    "        x_temp[v_srtd[i]] = 1\n",
    "        if np.count_nonzero(K @ x_temp) <= m*(1-r):\n",
    "            x = x_temp\n",
    "\n",
    "    # COUNT IS LOWER BOUND\n",
    "    count = x @ w\n",
    "    return count, x"
   ]
  },
  {
   "cell_type": "code",
   "execution_count": 221,
   "metadata": {},
   "outputs": [],
   "source": [
    "def solve_upper_bound(K, w, r):\n",
    "    m,n = K.shape\n",
    "    K_bar = 1 - K\n",
    "    x = cp.Variable(n, boolean = True)\n",
    "    obj = cp.Maximize(w @ x)\n",
    "    # cons = [cp.norm(K @ x, p = 0) <= m * (1-r)]\n",
    "    cons = [r * m * cp.sum(x) - np.ones(m) @ K_bar @ x <= 0]\n",
    "\n",
    "    prob = cp.Problem(obj, cons)\n",
    "    prob.solve()\n",
    "    return prob.value, x.value"
   ]
  },
  {
   "cell_type": "code",
   "execution_count": 222,
   "metadata": {},
   "outputs": [],
   "source": [
    "# is the actual constraint satisfied\n",
    "def true_const(K, r, x):\n",
    "    m,_ = K.shape\n",
    "    return np.count_nonzero(K @ x) <= m*(1-r)"
   ]
  },
  {
   "cell_type": "markdown",
   "metadata": {},
   "source": [
    "## Make random data matrix"
   ]
  },
  {
   "cell_type": "code",
   "execution_count": 223,
   "metadata": {},
   "outputs": [],
   "source": [
    "npr.seed(0)\n",
    "\n",
    "m = 20\n",
    "n = 10\n",
    "k = 0\n",
    "\n",
    "D = npr.randint(2, size = (m,n))\n",
    "K = np.abs(D - D[k,:])\n",
    "K_bar = 1-K\n",
    "\n",
    "# information weighting vector\n",
    "w = npr.randint(0, 10, size = n)\n",
    "r = 0.6"
   ]
  },
  {
   "cell_type": "code",
   "execution_count": 224,
   "metadata": {},
   "outputs": [],
   "source": [
    "p_val_low, x_val_low = greedy_lower_bound(K,w,r)\n",
    "p_val_high, x_val_high = solve_upper_bound(K,w,r)\n",
    "\n",
    "bound_tight = true_const(K, x_val_high,x_val_high)"
   ]
  },
  {
   "cell_type": "code",
   "execution_count": 225,
   "metadata": {},
   "outputs": [
    {
     "name": "stdout",
     "output_type": "stream",
     "text": [
      "Upper bound =  8.0\n",
      "Lower_bound =  8.0\n",
      "upper bound tight =  True\n"
     ]
    }
   ],
   "source": [
    "print(\"Upper bound = \", p_val_high)\n",
    "print(\"Lower_bound = \", p_val_low)\n",
    "print(\"upper bound tight = \", true_const(K,r, x_val_high))\n"
   ]
  },
  {
   "cell_type": "code",
   "execution_count": null,
   "metadata": {},
   "outputs": [],
   "source": []
  }
 ],
 "metadata": {
  "kernelspec": {
   "display_name": "Python 3.9.8 64-bit",
   "language": "python",
   "name": "python3"
  },
  "language_info": {
   "codemirror_mode": {
    "name": "ipython",
    "version": 3
   },
   "file_extension": ".py",
   "mimetype": "text/x-python",
   "name": "python",
   "nbconvert_exporter": "python",
   "pygments_lexer": "ipython3",
   "version": "3.9.8"
  },
  "orig_nbformat": 4,
  "vscode": {
   "interpreter": {
    "hash": "aee8b7b246df8f9039afb4144a1f6fd8d2ca17a180786b69acc140d282b71a49"
   }
  }
 },
 "nbformat": 4,
 "nbformat_minor": 2
}
